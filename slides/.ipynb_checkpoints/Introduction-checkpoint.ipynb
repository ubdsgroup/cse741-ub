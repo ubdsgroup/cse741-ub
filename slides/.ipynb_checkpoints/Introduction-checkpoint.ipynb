{
 "cells": [
  {
   "cell_type": "markdown",
   "metadata": {
    "slideshow": {
     "slide_type": "slide"
    }
   },
   "source": [
    "# CSE741 Seminar\n",
    "## Machine Learning and Physics\n",
    "\n",
    "<img src='https://video-images.vice.com/articles/5bdb3bfb595ea80006131d19/lede/1541094535342-shutterstock_680929729.jpeg' width=\"600\">"
   ]
  },
  {
   "cell_type": "markdown",
   "metadata": {
    "slideshow": {
     "slide_type": "subslide"
    }
   },
   "source": [
    "### Question 1 - Can ML improve understanding of physics?\n",
    "\n",
    "### Question 2 - Can physics improve ML models?\n",
    "\n",
    "### Question 3 - How can we best use ML for physics and physics for ML? "
   ]
  },
  {
   "cell_type": "markdown",
   "metadata": {
    "slideshow": {
     "slide_type": "slide"
    }
   },
   "source": [
    "#### Answering question 1 - `ml4physics`\n",
    "\n",
    "* Neural ODE solver - Best paper at NeurIPS 2018\n",
    "* many more ..."
   ]
  },
  {
   "cell_type": "markdown",
   "metadata": {
    "slideshow": {
     "slide_type": "subslide"
    }
   },
   "source": [
    "Some physics that we need to understand here\n",
    "\n",
    "- What is an Ordinary Differential Equation (ODE)?\n",
    "$$\n",
    "\\frac{dx(t)}{dt} = m \\sin t + n t^3\\\\\n",
    "\\frac{dx(t)}{dt} = a x(t) + b\n",
    "$$\n",
    "\n",
    "- What is a Partial Differential Equation (PDE)?\n",
    "$$\n",
    "c(x)\\rho(x) \\frac{\\partial u}{\\partial t} = - \\frac{\\partial \\varphi}{\\partial x} + Q(x,t)\n",
    "$$\n",
    "This is the **1-D Heat Equation**\n",
    "\n",
    "<img src='https://upload.wikimedia.org/wikipedia/commons/9/97/Temp_Rod_homobc.svg'/>\n",
    "\n",
    "* $u(x,t)$ - Temperature at point $x$ at time $t$\n",
    "*   $c(x)$ - Specific Heat  (material property)\n",
    "*   $\\rho(x)$ - Mass Density (material property)\n",
    "*  $\\varphi(x,t)$ - Heat flux\n",
    "*  $Q(x,t)$ - Heat energy generated per unit volume per unit time"
   ]
  },
  {
   "cell_type": "markdown",
   "metadata": {
    "slideshow": {
     "slide_type": "slide"
    }
   },
   "source": [
    "#### Answering questions 2 and 3 - `physics4ml`\n",
    "\n",
    "- Can concepts from physics be brought in to develop better ML models?\n",
    "  * Some of it is already there -- sampling methods for approximate inference\n",
    "- How can we make ML obey physical laws?\n"
   ]
  },
  {
   "cell_type": "markdown",
   "metadata": {
    "slideshow": {
     "slide_type": "subslide"
    }
   },
   "source": [
    "<img src='https://storage.googleapis.com/groundai-web-prod/media/users/user_4061/project_1600/images/x1.png'/>"
   ]
  },
  {
   "cell_type": "markdown",
   "metadata": {
    "slideshow": {
     "slide_type": "slide"
    }
   },
   "source": [
    "## Logistics\n",
    "- Box account for paper feedback\n",
    "\n",
    "- Location <img src='https://upload.wikimedia.org/wikipedia/commons/thumb/7/7e/Millard_Fillmore.jpg/440px-Millard_Fillmore.jpg' width=200 />\n",
    "\n",
    "> 352 Millard Fillmore Academic Center\n",
    "  - Better parking\n",
    "  - Better food\n",
    "  - I will bring the coffee (some days)!\n"
   ]
  },
  {
   "cell_type": "markdown",
   "metadata": {
    "slideshow": {
     "slide_type": "slide"
    }
   },
   "source": [
    "## Paper Presentations\n",
    "- Each student will pick at least 1 (or more if you want) paper from the reading list (or suggest a new relevant paper) to present in the class.\n",
    "- Every student (except for the presenter) will enter a short feedback on the paper on Box (details later)\n",
    "  * Can include criticisms, questions, additional comments, etc.\n",
    "- Presenter will have to compile these comments and talk about them during the presentation\n",
    "- Each presentation should be for roughly 30 minutes\n",
    "  * Your job is to improve our understanding, not blindly narrate the contents of the paper\n",
    "  * It is OK to focus on one or few parts of the paper\n",
    "  * You can include additional resources (paper, code, etc.) to enhance the presentation\n",
    "  * Code demonstrations are always the best way to understand papers  \n",
    "  * There will a lot of questions from all of us\n",
    "  * Do not put me to sleep!\n",
    "  \n",
    "- Audience will ask questions (during and after the presentation\n",
    "- There will be an online poll after each presentation to check if the understanding improved, stayed the same, or became worse, after the presentation\n",
    "  * Poor response will result in repeat presentation"
   ]
  }
 ],
 "metadata": {
  "celltoolbar": "Slideshow",
  "kernelspec": {
   "display_name": "Python 3",
   "language": "python",
   "name": "python3"
  },
  "language_info": {
   "codemirror_mode": {
    "name": "ipython",
    "version": 3
   },
   "file_extension": ".py",
   "mimetype": "text/x-python",
   "name": "python",
   "nbconvert_exporter": "python",
   "pygments_lexer": "ipython3",
   "version": "3.6.8"
  }
 },
 "nbformat": 4,
 "nbformat_minor": 2
}
