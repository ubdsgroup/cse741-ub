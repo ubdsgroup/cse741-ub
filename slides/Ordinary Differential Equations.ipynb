{
 "cells": [
  {
   "cell_type": "markdown",
   "metadata": {
    "slideshow": {
     "slide_type": "slide"
    }
   },
   "source": [
    "# Solving Ordinary Differential Equations or ODEs\n",
    "\n",
    "## A Gentle Introduction for Machine Learning\n",
    "\n",
    "Resources:\n",
    "- https://mathinsight.org/ordinary_differential_equation_introduction\n",
    "- https://www.math.uni-bielefeld.de/~grigor/odelec2008.pdf"
   ]
  },
  {
   "cell_type": "markdown",
   "metadata": {
    "slideshow": {
     "slide_type": "slide"
    }
   },
   "source": [
    "# What is an ODE\n",
    "- Describes the evolution of a system\n",
    "  * subject to internal and external dynamics\n",
    "  \n",
    "- Mathematically\n",
    "  * Equation involving *ordinary derivatives*\n",
    "  * Task is to solve for the function\n",
    "  $$\n",
    "  \\frac{dx(t)}{dt} = \\cos{t}\n",
    "  $$\n",
    "  * Here $x(t)$ is a function of the parameter $t$\n",
    "  * Need to solve the above equation to get $x(t)$ for any value of $t$"
   ]
  },
  {
   "cell_type": "markdown",
   "metadata": {
    "slideshow": {
     "slide_type": "subslide"
    }
   },
   "source": [
    "## Sometimes it can be easy\n",
    "\n",
    "$$\n",
    "  \\frac{dx(t)}{dt} = \\cos{t}\n",
    "$$\n",
    "\\begin{eqnarray}\n",
    "x(t) & = & \\int \\cos{t}dt\\\\\n",
    "     & = & \\sin{t} + C\n",
    "\\end{eqnarray}\n",
    "\n",
    "- Of course, we do not know what $C$ is\n",
    "- \"Initial conditions can be used\"\n",
    "  * For example, $x(t_0) = x_0$\n"
   ]
  },
  {
   "cell_type": "markdown",
   "metadata": {
    "slideshow": {
     "slide_type": "slide"
    }
   },
   "source": [
    "# How to deal with more complex ODEs\n",
    "\n",
    "$$\n",
    "\\frac{dx(t)}{dt} = m \\sin{t} + n t^3\n",
    "$$\n",
    "Actually this is not much different from before\n",
    "\n",
    "\\begin{eqnarray}\n",
    "x(t) - x(a) & = & \\int_a^t (m \\sin{t} + n t^3) dt\\\\\n",
    "            & = & -m\\cos{t} + \\frac{1}{4}nt^4 + m\\cos{a} - \\frac{1}{4}na^4 + x(a)\n",
    "\\end{eqnarray}\n",
    "\n",
    "- $x(a)$ comes from the initial condition specification"
   ]
  },
  {
   "cell_type": "markdown",
   "metadata": {
    "slideshow": {
     "slide_type": "slide"
    }
   },
   "source": [
    "# Why has it been so simple so far?\n",
    "\n",
    "- $\\frac{dx(t)}{dt}$ did not depend on $x(t)$\n",
    "- What if the ODE is:\n",
    "$$\n",
    "\\frac{dx(t)}{dt} = ax(t) + b\n",
    "$$\n",
    "- Can use the **$u$-substitution** method\n",
    "\\begin{eqnarray}\n",
    "\\frac{\\frac{dx(t)}{dt}}{ax(t) + b}& = &1\\\\\n",
    "\\frac{\\frac{dx(t)}{dt}}{ax(t) + b}& = &\\int 1dt\\\\\n",
    "\\end{eqnarray}\n",
    "let, $u = x(t), \\Rightarrow du = \\frac{dx}{dt}dt$. \n"
   ]
  },
  {
   "cell_type": "markdown",
   "metadata": {
    "slideshow": {
     "slide_type": "subslide"
    }
   },
   "source": [
    "## continued ...\n",
    "\n",
    "- Then, the left hand side becomes:\n",
    "\n",
    "\\begin{eqnarray}\n",
    "\\frac{\\frac{dx(t)}{dt}}{ax(t) + b}& = &\\int\\frac{du}{au + b}\\\\\n",
    "                                  & = &\\frac{1}{a}\\log\\vert au + b\\vert + C_1\\\\\n",
    "                                  & = & \\frac{1}{a}\\log\\vert ax(t) + b\\vert + C_1\n",
    "\\end{eqnarray}\n",
    "\n",
    "- Right hand side evaluates to $\\int 1dt = t + C_2$"
   ]
  },
  {
   "cell_type": "markdown",
   "metadata": {
    "slideshow": {
     "slide_type": "subslide"
    }
   },
   "source": [
    "## continued ...\n",
    "\n",
    "- Equating both sides:\n",
    "$$\n",
    "\\frac{1}{a}\\log\\vert ax(t) + b\\vert + C_1 = t + C_2\n",
    "$$\n",
    "- and solving for $x(t)$ gives:\n",
    "$$\n",
    "x(t) = \\pm \\frac{1}{a}\\exp{(at + xC_3)} - ba\n",
    "$$\n",
    "where $C_3 = C_2 - C_1$.\n",
    "- If we set $C = \\pm\\frac{1}{a}\\exp{(aC_3)}$ then:\n",
    "$$\n",
    "x(t) = C\\exp{(at)} - ba\n",
    "$$\n",
    "- Again, initial conditions can be used to get $C$"
   ]
  },
  {
   "cell_type": "markdown",
   "metadata": {
    "slideshow": {
     "slide_type": "slide"
    }
   },
   "source": [
    "# Other types of ODE\n",
    "- Separable case\n",
    "$$\n",
    "\\frac{dy(x)}{dx} = f(x)g(y(x))\n",
    "$$\n",
    "> **Theorem**: $y(x)$ solves this ODE if and only if it satisfies:\n",
    "  $$\n",
    "  G(y(x)) = F(x) + C\n",
    "  $$\n",
    "  where $G()$ is the *primitive* of $g()$ and $F()$ is the *primitive* of $f()$\n",
    "- Linear ODE of first-order\n",
    "$$\n",
    "\\frac{dy(x)}{dx} + a(x) y(x) = b(x)\n",
    "$$\n",
    "> **Theorem**: General solution to the equation has the form:\n",
    "  $$\n",
    "  y(x) = e^{-A(x)}\\int b(x) e^{A(x)}dx\n",
    "  $$\n",
    "  where $A(x)$ is the *primitive* of $a(x)$"
   ]
  },
  {
   "cell_type": "markdown",
   "metadata": {
    "slideshow": {
     "slide_type": "slide"
    }
   },
   "source": [
    "# A second-order ODE (Newton's second law of motion)\n",
    "<img width=\"400\" src = 'https://physicslight.files.wordpress.com/2014/04/projectile_animation.gif'/>\n",
    "$$\n",
    "\\frac{d^2u(t)}{dt^2} = -\\frac{k}{m}\\frac{du(t)}{dt} + g\n",
    "$$\n",
    "or\n",
    "$$\n",
    "u^{\\prime\\prime} = -\\frac{k}{m}u^\\prime + g\n",
    "$$\n",
    "Here $u(t) = (x(t),y(t))$ and $g$ is a vector (e.g., a gravity acceleration vector).\n",
    "\n",
    "- Solve above to find position of the object at any given time $t$, i.e., $u(t)$"
   ]
  },
  {
   "cell_type": "markdown",
   "metadata": {
    "slideshow": {
     "slide_type": "subslide"
    }
   },
   "source": [
    "# Convert to first-order ODE\n",
    "- Let \n",
    "$$\n",
    "v = \\left[\\begin{array}{c}u\\\\u^\\prime\\end{array}\\right]\n",
    "$$\n",
    "- Which means that:\n",
    "\n",
    "\\begin{eqnarray}\n",
    "v^\\prime & = & \\left[\\begin{array}{c}u^\\prime\\\\u^{\\prime\\prime}\\end{array}\\right]\\\\\n",
    "         & = & \\left[\\begin{array}{c}u^\\prime\\\\-\\frac{k}{m}u^\\prime + g\\end{array}\\right]\n",
    "\\end{eqnarray}"
   ]
  },
  {
   "cell_type": "code",
   "execution_count": 17,
   "metadata": {
    "slideshow": {
     "slide_type": "skip"
    }
   },
   "outputs": [],
   "source": [
    "import numpy as np\n",
    "import matplotlib.pyplot as plt\n",
    "import seaborn as sns\n",
    "sns.set(color_codes=True)\n",
    "sns.set_style('whitegrid')\n",
    "sns.set_context('paper',font_scale=2)"
   ]
  },
  {
   "cell_type": "markdown",
   "metadata": {
    "slideshow": {
     "slide_type": "subslide"
    }
   },
   "source": [
    "# Initialize the values"
   ]
  },
  {
   "cell_type": "code",
   "execution_count": 6,
   "metadata": {
    "slideshow": {
     "slide_type": "fragment"
    }
   },
   "outputs": [],
   "source": [
    "# The initial position is (0, 0).\n",
    "v0 = np.zeros(4)\n",
    "# The initial speed vector is oriented\n",
    "# to the top right.\n",
    "v0[2] = 4.\n",
    "v0[3] = 10."
   ]
  },
  {
   "cell_type": "code",
   "execution_count": 15,
   "metadata": {
    "slideshow": {
     "slide_type": "fragment"
    }
   },
   "outputs": [],
   "source": [
    "def f(v, t0, k,m = 1,g = 9.8):\n",
    "    # v has four components: v=[u, u'].\n",
    "    u, uprime = v[:2], v[2:]\n",
    "    # We compute the second derivative u'' of u.\n",
    "    uprime2 = -k / m * uprime\n",
    "    uprime2[1] -= g\n",
    "    # We return v'=[u', u''].\n",
    "    return np.r_[uprime, uprime2]"
   ]
  },
  {
   "cell_type": "markdown",
   "metadata": {
    "slideshow": {
     "slide_type": "subslide"
    }
   },
   "source": [
    "# Simulate the system for different values of $k$"
   ]
  },
  {
   "cell_type": "code",
   "execution_count": 31,
   "metadata": {
    "slideshow": {
     "slide_type": "fragment"
    }
   },
   "outputs": [],
   "source": [
    "vs = []\n",
    "# We want to evaluate the system on 30 linearly\n",
    "import scipy.integrate as spi\n",
    "\n",
    "# spaced times between t=0 and t=3.\n",
    "t = np.linspace(0., 3., 100)\n",
    "# We simulate the system for different values of k.\n",
    "for k in np.linspace(0., 1., 5):\n",
    "    # We simulate the system and evaluate $v$ on the given times.\n",
    "    v = spi.odeint(f, v0, t, args=(k,))\n",
    "    vs.append(v)\n"
   ]
  },
  {
   "cell_type": "code",
   "execution_count": 32,
   "metadata": {
    "slideshow": {
     "slide_type": "subslide"
    }
   },
   "outputs": [
    {
     "data": {
      "text/plain": [
       "(0, 6)"
      ]
     },
     "execution_count": 32,
     "metadata": {},
     "output_type": "execute_result"
    },
    {
     "data": {
      "image/png": "[encoded data removed]",
      "text/plain": [
       "<Figure size 576x288 with 1 Axes>"
      ]
     },
     "metadata": {},
     "output_type": "display_data"
    }
   ],
   "source": [
    "# We plot the particle's trajectory.\n",
    "fig, ax = plt.subplots(1, 1, figsize=(8, 4))\n",
    "# We simulate the system for different values of k.\n",
    "k = np.linspace(0., 1., 5)\n",
    "for i in range(len(k)):\n",
    "    # We plot the particle's trajectory.\n",
    "    ax.plot(vs[i][:, 0], vs[i][:, 1], 'o-', mew=1, ms=8,\n",
    "            mec='w', label=f'k={k[i]:.1f}')\n",
    "ax.legend()\n",
    "ax.set_xlim(0, 12)\n",
    "ax.set_ylim(0, 6)"
   ]
  },
  {
   "cell_type": "markdown",
   "metadata": {
    "slideshow": {
     "slide_type": "slide"
    }
   },
   "source": [
    "# The SciPy odeint() function \n",
    "- black-box solver\n",
    "  * specify the function that describes the system, \n",
    "  * and SciPy solves it automatically. \n",
    "  * leverages the FORTRAN library ODEPACK\n",
    "- newer `solve_ivb()` function also exists\n"
   ]
  },
  {
   "cell_type": "markdown",
   "metadata": {
    "slideshow": {
     "slide_type": "slide"
    }
   },
   "source": [
    "# A simple numerical solver - Euler's method\n",
    "- Consider the ODE:\n",
    "$$\n",
    "y^\\prime = f(y)\n",
    "$$\n",
    "- One can discretize time in steps $dt$\n",
    "- Approximate $y^\\prime$ as:\n",
    "$$\n",
    "y^\\prime \\simeq \\frac{y(t + dt) - y(t)}{dt}\n",
    "$$\n",
    "- Starting from $y_0 = y(t_0)$, following recursion is solved\n",
    "$$\n",
    "y_{n+1} = y_n + dt\\cdot f(y_n)\n",
    "$$\n",
    "with:\n",
    "$$\n",
    "t = n\\cdot dt,\\quad y_n = y(n\\cdot dt)\n",
    "$$"
   ]
  },
  {
   "cell_type": "code",
   "execution_count": 53,
   "metadata": {
    "slideshow": {
     "slide_type": "skip"
    }
   },
   "outputs": [],
   "source": [
    "from sklearn.gaussian_process import GaussianProcessRegressor\n",
    "from sklearn.gaussian_process.kernels import WhiteKernel, RBF"
   ]
  },
  {
   "cell_type": "markdown",
   "metadata": {
    "slideshow": {
     "slide_type": "slide"
    }
   },
   "source": [
    "# Using Gaussian Process Regression"
   ]
  },
  {
   "cell_type": "code",
   "execution_count": 119,
   "metadata": {
    "slideshow": {
     "slide_type": "fragment"
    }
   },
   "outputs": [],
   "source": [
    "# create data\n",
    "nsamples = 25\n",
    "rnd = np.random.permutation(len(t))\n",
    "XTrain = t[rnd[0:nsamples]]\n",
    "XTrain = XTrain[:,np.newaxis]\n",
    "YTrain = vs[0][rnd[0:nsamples],0:2]"
   ]
  },
  {
   "cell_type": "code",
   "execution_count": 120,
   "metadata": {
    "slideshow": {
     "slide_type": "fragment"
    }
   },
   "outputs": [],
   "source": [
    "# setup and fit model\n",
    "gp_kernel = RBF(1.0) + WhiteKernel(1e-1)\n",
    "gpr = GaussianProcessRegressor(kernel=gp_kernel)\n",
    "gpr = gpr.fit(XTrain,YTrain)"
   ]
  },
  {
   "cell_type": "code",
   "execution_count": 121,
   "metadata": {
    "slideshow": {
     "slide_type": "fragment"
    }
   },
   "outputs": [],
   "source": [
    "# get predictions\n",
    "XTest = t[:,np.newaxis]\n",
    "YTest = vs[0][:,0:2]\n",
    "YPred = gpr.predict(XTest)"
   ]
  },
  {
   "cell_type": "code",
   "execution_count": 122,
   "metadata": {
    "slideshow": {
     "slide_type": "slide"
    }
   },
   "outputs": [
    {
     "data": {
      "text/plain": [
       "<matplotlib.legend.Legend at 0x1a21665710>"
      ]
     },
     "execution_count": 122,
     "metadata": {},
     "output_type": "execute_result"
    },
    {
     "data": {
      "image/png": "[encoded data removed]",
      "text/plain": [
       "<Figure size 432x288 with 1 Axes>"
      ]
     },
     "metadata": {},
     "output_type": "display_data"
    }
   ],
   "source": [
    "plt.scatter(YPred[:,0],YPred[:,1])\n",
    "plt.scatter(YTest[:,0],YTest[:,1],alpha=0.4)\n",
    "plt.legend(['Predicted','True'])"
   ]
  },
  {
   "cell_type": "markdown",
   "metadata": {
    "slideshow": {
     "slide_type": "slide"
    }
   },
   "source": [
    "# Project Ideas?\n",
    "\n",
    "- Reduced order model in the reduced space (autoregression of time series)\n",
    "\n",
    "- \"How much data is needed? Manifold can tell\": streaming isomap, when we have enough data (Procrustes error)\n",
    "\n",
    "- \"Active learning of dynamic data\" design the new round of manifold based on the gaps/empty zones in the manifold "
   ]
  }
 ],
 "metadata": {
  "celltoolbar": "Slideshow",
  "kernelspec": {
   "display_name": "Python 3",
   "language": "python",
   "name": "python3"
  },
  "language_info": {
   "codemirror_mode": {
    "name": "ipython",
    "version": 3
   },
   "file_extension": ".py",
   "mimetype": "text/x-python",
   "name": "python",
   "nbconvert_exporter": "python",
   "pygments_lexer": "ipython3",
   "version": "3.6.8"
  }
 },
 "nbformat": 4,
 "nbformat_minor": 2
}
