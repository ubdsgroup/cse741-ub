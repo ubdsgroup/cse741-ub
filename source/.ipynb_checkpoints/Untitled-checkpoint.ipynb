{
 "cells": [
  {
   "cell_type": "code",
   "execution_count": 10,
   "metadata": {},
   "outputs": [],
   "source": [
    "import csv"
   ]
  },
  {
   "cell_type": "code",
   "execution_count": 14,
   "metadata": {},
   "outputs": [
    {
     "name": "stdout",
     "output_type": "stream",
     "text": [
      "1.`Theory-guided Data Science: A New Paradigm for Scientific Discovery from Data`_, https://arxiv.org/abs/1612.08544\n",
      "2.`Physics Informed Deep Learning (Part I): Data-driven Solutions of Nonlinear Partial Differential Equations`_, https://arxiv.org/abs/1711.10561\n",
      "3.`Physics Informed Deep Learning (Part II): Data-driven Discovery of Nonlinear Partial Differential Equations`_, https://arxiv.org/abs/1711.10566\n",
      "4.`Learning Neural PDE Solvers with Convergence Guarantees`_,https://arxiv.org/abs/1906.01200\n",
      "5.`Neural Ordinary Differential Equations`_,https://papers.nips.cc/paper/7892-neural-ordinary-differential-equations\n",
      "6.`Machine learning and the physical sciences`_,https://arxiv.org/pdf/1903.10563.pdf\n",
      "7.`Physics-guided Neural Networks (PGNN): An Application in Lake Temperature Modeling`_,https://arxiv.org/abs/1710.11431\n",
      "8.`AI Feynman: a Physics-Inspired Method for Symbolic Regression`_,https://arxiv.org/pdf/1905.11481.pdf\n",
      "9.`Deep learning for universal linear embeddings of nonlinear dynamics`_,https://www.nature.com/articles/s41467-018-07210-0\n",
      "10.`Machine learning of linear differential equations using Gaussian processes`_,https://arxiv.org/pdf/1701.02440.pdf\n",
      "11.`Hidden Physics Models: Machine Learning of Nonlinear Partial Differential Equations`_,https://arxiv.org/pdf/1708.00588.pdf\n",
      "12.`Gaussian Processes`_,http://krasserm.github.io/2018/03/19/gaussian-processes/\n",
      "13.`Gaussian Processes for Regression: A Quick Introduction`_,https://www.robots.ox.ac.uk/~mebden/reports/GPtutorial.pdf\n",
      "14.`Solving Ordinary Differential Equations`_,https://mathinsight.org/ordinary_differential_equation_introduction\n",
      "15.`Solving partial differential equations`_,http://hplgit.github.io/Programming-for-Computations/pub/p4c/._p4c-bootstrap-Matlab023.html\n",
      "16.`Discovering governing equations from data by sparse identification of nonlinear dynamical systems`_,https://www.pnas.org/content/113/15/3932\n",
      "17.`Convolutional neural networks for steady flow approximation`_,https://www.kdd.org/kdd2016/papers/files/adp1175-guoA.pdf\n",
      "18.`Visual Causal Feature Learning`_,https://arxiv.org/pdf/1412.2309.pdf\n",
      "19.`Accelerating Eulerian Fluid Simulation With Convolutional Networks`_,https://arxiv.org/abs/1607.03597\n",
      "20.`Machine learning strategies for systems with invariance properties`_,https://www.sciencedirect.com/science/article/pii/S0021999116301309\n",
      "21.`A Comprehensive Physics-Informed Machine Learning Framework for Predictive Turbulence Modeling`_,https://arxiv.org/pdf/1701.07102.pdf\n"
     ]
    }
   ],
   "source": [
    "with open('topics1.csv') as f:\n",
    "    rd = csv.reader(f)\n",
    "    next(rd)\n",
    "    i = 1\n",
    "    for line in rd:\n",
    "        print('{}.`{} <{}>`_,{}'.format(i,line[0],line[3],line[4]))\n",
    "        i = i + 1"
   ]
  }
 ],
 "metadata": {
  "kernelspec": {
   "display_name": "Python 3",
   "language": "python",
   "name": "python3"
  },
  "language_info": {
   "codemirror_mode": {
    "name": "ipython",
    "version": 3
   },
   "file_extension": ".py",
   "mimetype": "text/x-python",
   "name": "python",
   "nbconvert_exporter": "python",
   "pygments_lexer": "ipython3",
   "version": "3.6.8"
  }
 },
 "nbformat": 4,
 "nbformat_minor": 2
}
